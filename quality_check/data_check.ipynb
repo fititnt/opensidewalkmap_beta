{
 "cells": [
  {
   "cell_type": "code",
   "execution_count": 1,
   "metadata": {},
   "outputs": [],
   "source": [
    "import sys\n",
    "sys.path.append('..')\n",
    "import geopandas as gpd\n",
    "from functions import *"
   ]
  },
  {
   "cell_type": "code",
   "execution_count": 2,
   "metadata": {},
   "outputs": [],
   "source": [
    "sidewalks_gdf = gpd.read_file('../data/sidewalks_raw.geojson')\n",
    "crossings_gdf = gpd.read_file('../data/crossings_raw.geojson')\n",
    "kerbs_gdf = gpd.read_file('../data/kerbs_raw.geojson')\n",
    "\n",
    "feat_keys_path = 'feature_keys.json'"
   ]
  },
  {
   "cell_type": "code",
   "execution_count": 3,
   "metadata": {},
   "outputs": [
    {
     "name": "stdout",
     "output_type": "stream",
     "text": [
      "bicycle footway highway name foot lcn motor_vehicle segregated access horse oneway mapillary maxspeed survey:date tactile_paving layer lit surface tunnel incline smoothness opening_hours cutting embankment dog wheelchair level cycleway cycleway:right ramp noname crossing alt_name source handrail ramp:wheelchair step_count kerb traffic_signals description paving_stones barrier\n"
     ]
    }
   ],
   "source": [
    "# sidewalks columns\n",
    "sidewalks_columns = print_relevant_columnamesV2(sidewalks_gdf,outfilepath='sidewalks_fieldnames.txt')\n",
    "\n",
    "record_to_json('sidewalks',sidewalks_columns,feat_keys_path)"
   ]
  },
  {
   "cell_type": "code",
   "execution_count": 4,
   "metadata": {},
   "outputs": [],
   "source": [
    "# for sidewalks_field in sidewalk_columns:\n",
    "#     print(check_if_wikipage_exists(sidewalks_field))\n",
    "\n",
    "# TOO SLOW, shall be done in a separate file"
   ]
  },
  {
   "cell_type": "code",
   "execution_count": 5,
   "metadata": {},
   "outputs": [
    {
     "name": "stdout",
     "output_type": "stream",
     "text": [
      "crossing footway highway kerb surface tactile_paving traffic_calming bicycle name foot lit segregated layer access alt_name horse note motor_vehicle incline lcn crossing:island lanes oneway level cycleway cycleway:right smoothness wheelchair mapillary survey:date barrier\n"
     ]
    }
   ],
   "source": [
    "# crossings columns\n",
    "crossings_columns = print_relevant_columnamesV2(crossings_gdf,outfilepath='crossings_fieldnames.txt')\n",
    "\n",
    "record_to_json('crossings',crossings_columns,feat_keys_path)"
   ]
  },
  {
   "cell_type": "code",
   "execution_count": 6,
   "metadata": {},
   "outputs": [
    {
     "name": "stdout",
     "output_type": "stream",
     "text": [
      "crossing crossing_ref highway kerb tactile_paving traffic_calming bicycle mapillary survey:date wheelchair button_operated traffic_signals:sound traffic_signals:vibration crossing:island image barrier surface kerb:height traffic_signals smoothness description\n"
     ]
    }
   ],
   "source": [
    "# kerbs columns\n",
    "kerbs_columns = print_relevant_columnamesV2(kerbs_gdf,outfilepath='kerbs_fieldnames.txt')\n",
    "\n",
    "record_to_json('kerbs',kerbs_columns,feat_keys_path)"
   ]
  },
  {
   "cell_type": "code",
   "execution_count": 9,
   "metadata": {},
   "outputs": [],
   "source": [
    "columns_dict = {'sidewalks':sidewalks_columns,'crossings':crossings_columns,'kerbs':kerbs_columns}\n",
    "\n",
    "gdf_dict = {'sidewalks':sidewalks_gdf,'crossings':crossings_gdf,'kerbs':kerbs_gdf}\n"
   ]
  },
  {
   "cell_type": "code",
   "execution_count": 10,
   "metadata": {},
   "outputs": [],
   "source": [
    "unique_values_dict = {}\n",
    "\n",
    "for category in columns_dict:\n",
    "    unique_values_dict[category] = {}\n",
    "    for osmkey in columns_dict[category]:\n",
    "        unique_values_dict[category][osmkey] = list(gdf_dict[category][osmkey].unique())\n",
    "\n",
    "dump_json(unique_values_dict,'unique_tag_values.json')\n",
    "        \n"
   ]
  }
 ],
 "metadata": {
  "kernelspec": {
   "display_name": "Python 3.8.10 64-bit",
   "language": "python",
   "name": "python3"
  },
  "language_info": {
   "codemirror_mode": {
    "name": "ipython",
    "version": 3
   },
   "file_extension": ".py",
   "mimetype": "text/x-python",
   "name": "python",
   "nbconvert_exporter": "python",
   "pygments_lexer": "ipython3",
   "version": "3.8.10"
  },
  "orig_nbformat": 4,
  "vscode": {
   "interpreter": {
    "hash": "916dbcbb3f70747c44a77c7bcd40155683ae19c65e1c03b4aa3499c5328201f1"
   }
  }
 },
 "nbformat": 4,
 "nbformat_minor": 2
}
